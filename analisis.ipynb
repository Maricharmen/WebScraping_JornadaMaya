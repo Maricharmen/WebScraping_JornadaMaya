{
 "cells": [
  {
   "cell_type": "markdown",
   "metadata": {},
   "source": [
    "# Analisis de datos\n"
   ]
  },
  {
   "cell_type": "code",
   "execution_count": 38,
   "metadata": {},
   "outputs": [],
   "source": [
    "import pandas as pd\n",
    "\n",
    "data = pd.read_csv(\"datos_analisis.csv\")\n"
   ]
  },
  {
   "cell_type": "markdown",
   "metadata": {},
   "source": [
    "### Sobre el número total de noticias:\n",
    "**¿Cuál es el número total de noticias recopiladas?**"
   ]
  },
  {
   "cell_type": "code",
   "execution_count": null,
   "metadata": {},
   "outputs": [
    {
     "name": "stdout",
     "output_type": "stream",
     "text": [
      "El numero total de noticias es 719\n"
     ]
    }
   ],
   "source": [
    "num_filas = data.shape[0]\n",
    "print(f\"El numero total de noticias es {num_filas}\")"
   ]
  },
  {
   "cell_type": "markdown",
   "metadata": {},
   "source": [
    "### Número de noticias por mes:\n",
    "- **¿Cuántas noticias se publicaron cada mes?**\n",
    "- **¿Cuál fue el mes con más y menos noticias publicadas?**"
   ]
  },
  {
   "cell_type": "markdown",
   "metadata": {},
   "source": [
    "### Frecuencia de longitud del contenido:\n",
    "- **¿Cuál es la distribución de las longitudes de las noticias en palabras?**\n",
    "- **¿Cuál es la longitud promedio de las noticias?**"
   ]
  },
  {
   "cell_type": "code",
   "execution_count": null,
   "metadata": {},
   "outputs": [
    {
     "name": "stdout",
     "output_type": "stream",
     "text": [
      "     Total_Palabras  Frecuencia\n",
      "0                 5           1\n",
      "1                33           2\n",
      "2                34           1\n",
      "3                36           1\n",
      "4                37           1\n",
      "..              ...         ...\n",
      "363             890           1\n",
      "364             909           1\n",
      "365             934           1\n",
      "366            1001           1\n",
      "367            1104           1\n",
      "\n",
      "[368 rows x 2 columns]\n"
     ]
    }
   ],
   "source": [
    "import matplotlib.pyplot as plt\n",
    "import seaborn as sns\n",
    "\n",
    "df_palabras = pd.DataFrame(data)\n",
    "\n",
    "def contar_palabras(fila):\n",
    "    return len(fila[\"Contenido\"].split())\n",
    "\n",
    "df_palabras[\"Total_Palabras\"] = df_palabras.apply(contar_palabras, axis = 1)\n",
    "\n",
    "\n",
    "#print(frecuencias)\n"
   ]
  },
  {
   "cell_type": "markdown",
   "metadata": {},
   "source": [
    "### Palabras comunes:\n",
    "**¿Cuáles son las palabras más frecuentes en las noticias?**"
   ]
  },
  {
   "cell_type": "markdown",
   "metadata": {},
   "source": [
    "### Frecuencia de la ubicación de las noticias:\n",
    "- **¿Cuáles son las ubicaciones más mencionadas en las noticias?**\n",
    "- **¿Existen patrones geográficos claros en las noticias publicadas?**"
   ]
  },
  {
   "cell_type": "markdown",
   "metadata": {},
   "source": [
    "### Análisis del traductor maya-español:\n",
    "- **¿Cuántas palabras en las noticias están escritas en maya?**\n",
    "- **¿Cuántas palabras provienen del español?**\n",
    "- **¿Existen palabras que aparecen tanto en maya como en español?**"
   ]
  },
  {
   "cell_type": "code",
   "execution_count": 29,
   "metadata": {},
   "outputs": [
    {
     "name": "stdout",
     "output_type": "stream",
     "text": [
      "Idioma detectado: maya\n",
      "Similitudes: {'maya': 0.876699484294421, 'es': 0.5410220346929208}\n"
     ]
    }
   ],
   "source": [
    "from collections import Counter\n",
    "import re\n",
    "\n",
    "# Función para generar n-gramas\n",
    "def generate_ngrams(text, n=3):\n",
    "    text = text.lower()\n",
    "    text = ''.join([c for c in text if c.isalpha() or c.isspace()])\n",
    "    ngrams = [text[i:i+n] for i in range(len(text)-n+1)]\n",
    "    return Counter(ngrams)\n",
    "\n",
    "# Función para cargar el contenido del archivo\n",
    "def load_text_from_file(file_path):\n",
    "    with open(file_path, 'r', encoding='utf-8') as file:\n",
    "        return file.read()\n",
    "\n",
    "# Cargar los textos en Maya Yucateco y Español desde archivos de texto\n",
    "maya_text = load_text_from_file('maya_text.txt')  # Ruta al archivo de Maya Yucateco\n",
    "spanish_text = load_text_from_file('spanish.txt')  # Ruta al archivo de Español\n",
    "\n",
    "# Crear los perfiles de n-gramas para Maya Yucateco y Español\n",
    "language_profiles = {\n",
    "    'maya': generate_ngrams(maya_text, n=3),\n",
    "    'es': generate_ngrams(spanish_text, n=3)\n",
    "}\n",
    "\n",
    "# Función para calcular la proporción\n",
    "def proportion_similarity(profile1, profile2):\n",
    "    intersection = set(profile1.keys()) & set(profile2.keys())\n",
    "    matches = sum(profile1[ngram] for ngram in intersection)\n",
    "    total = sum(profile1.values())\n",
    "    return matches / total if total > 0 else 0.0\n",
    "\n",
    "# Función para detectar el idioma\n",
    "def detect_language(text):\n",
    "    text_profile = generate_ngrams(text, n=3)\n",
    "    similarities = {lang: proportion_similarity(text_profile, profile) for lang, profile in language_profiles.items()}\n",
    "    detected_language = max(similarities, key=similarities.get)\n",
    "    return detected_language, similarities\n",
    "\n",
    "# Ejemplo de uso\n",
    "text_to_detect = data[\"Contenido\"][200]\n",
    "detected_language, similarities = detect_language(text_to_detect)\n",
    "\n",
    "print(f\"Idioma detectado: {detected_language}\")\n",
    "print(f\"Similitudes: {similarities}\")"
   ]
  },
  {
   "cell_type": "code",
   "execution_count": 36,
   "metadata": {},
   "outputs": [
    {
     "name": "stdout",
     "output_type": "stream",
     "text": [
      "Kaanpech yéetel Yucatáne’ náach p’aatalo’ob ti’ Quintana Roo ikil u táakbesa’alo’ob ti’ fíinansiero ba’alo’ob. Le ts’ook lu’uma’ ti’ yaan tu ka’ kúuchil uchil tuláakal u noj lu’umil México, tumen jo’op’éel u méek’tankaajilo’obe’ ka’anal yanik u káalifikaasiono’obi’, le beetike’ ti’ kaaje’ ku yantal uláak’ páajtalilo’ob ti’al u páajtal u machiko’ob taak’in yéetel beyo’ u ma’alo’obkúunsa’al u kuxtal máaxo’ob óoli’ p’ata’ano’ob paachil, je’el bix ko’olelo’ob, táaxnel kaajil máako’ob, ch’ija’an máako’ob, máasewalo’ob yéetel máaxo’ob kaja’ano’ob ti’ mejen kaajo’ob. \n",
      "Kaanpeche’ jatsa’an beey nivel medio tumen ti’ yaan tu jo’olajun kúuchil ti’ ba’ax k’ajóolta’an beey Índice de Inclusión Financiera 2020, beeta’an tumen Citibanamex, ka’alikil Yucatáne’ ti’ yaan tu waklajun kúuchil. \n",
      "Xookil ku beeta’ale’ ku núup’ul yéetel Política Nacional de Inclusión Financiera jts’a’ab k’ajóoltbil le ja’ab máaniko’ tu winalil marzo, tu’ux táan u kaxta’al u yantal uláak’ ba’alo’ob ti’al u yutsil kuxtal kaaj, u ma’alo’obkúunsa’al bix u beeta’al u suut taak’in, ma’ u talamtal u páajtal u yantal wa u ko’onol ba’al, mix xan u k’a’abéetkunsa’al fíinansiero ba’al tumen kaaj mix tumen chichan, mejen wa ma’ seen nojoch mola’ayo’ob, beyxan u ya’abta’al díijital bo’olil ku beeta’al tumen kaaj ti’ kúuchilo’ob koonol yéetel ti’ u mola’ayilo’ob meyaj jala’ach. \n",
      "Yáanal Ciudad de Méxicoe’, ti’ yaan u lu’umil Quintana Roo, tumen ti’ p’aatal tu ka’ kúuchul ichil tuláakal le lu’umo’obo’, yéetel ka’anal tsola’anilo’ob: Solidaridad (waxak kúuchil), Isla Mujeres (24), Tulum (25), Benito Juárez (31), Cozumel (38), yéetel tu ka’analile’ Puerto Morelos (263); u jach ka’analile’ Lázaro Cárdenas tumen ti’ yaan 667 beyxan Bacalar, tumen kex chíimpolta’an beey pueblo mágicoe’, ti’ p’aatal tu kúuchil mil 126 ichil le dos mil 463 u p’éel méek’tankaajo’ob yaan. \n",
      "Je’el bix tu kaajil Solidaridade’, kéen máanak máak tu bejil 42 Norte, yóok’ol Quinta Avenida, tak tu k’íiwikil Fundadores, tu chowakil 21 kuaadraobe’ yaan kex 42 kaajero’ob áautomatiko’ob. \n",
      "Kaanpeche’ ti’ yaan tu jo’olajun kúuchil, óoli’ chúumuk yaan, chéen u méek’tankaajil Carmen yéetel Kaanpech jatsa’an beey ka’anatalko’ob, kex tumen ti’ yano’ob tu 89 yéetel 106 kúuchil, je’el chika’ano’oba’, ba’ale’ yaan xan uláak’o’ob jach kabaltak yano’ob, je’el bix Champotón, p’aatal tu 593 kúuchil, yéetel u jach kaabalile’ Hopelchén, ti’ yaan tu kúuchil mil 161, beyxan Candelaria ti’ yaan mil 342 kúuchil. \n",
      "Yucatáne’ ti’ yaan tu kúuchil 16, chéen u noj kaajil Jo’ ka’anal jatsa’an tumen ti’ yaan tu kúuchil 35, ken ts’o’okoke’ ti’ yaan Progreso, Motul yéetel Saki’, tu kúuchil 184, 242 yéetel 259, ba’ale’ ku jach chíikpajal u jela’anil yéetel uláak’ kaajo’ob je’el bix Kantunil, tumen jach kaabal yaan, tu kúuchil mil 768, wa túumben pueblo mágico Maní, tumen ti’ yaan mil 234. \n",
      "Xak’al xook beeta’ab tumen Citibanamex ku ts’ook a’alike’, kex tumen táan u bin u xíimbal u táakbesa’al kaajo’ob ti’ fíinansiero utsil ba’alo’obe’, ma’ keet yaniki’, ts’o’okole’ wa ku tukulta’al óoli’ nuup’ul yanik táakbesajil yéetel jóok’sajil táanile’, láayli’ chowak bej yaan ti’al xíimbaltbili’. \n",
      "Xak'alutskíinsa'an tumen: Sasil Sánchez Chan\n",
      "Palabras en maya: 365\n",
      "Palabras en español: 99\n"
     ]
    }
   ],
   "source": [
    "# Cargar el diccionario de español\n",
    "def load_spanish_dictionary(file_path):\n",
    "    with open(file_path, 'r', encoding='utf-8') as file:\n",
    "        # Leer todas las palabras en el diccionario y convertirlas a una lista\n",
    "        spanish_dict = set(word.strip().lower() for word in file.readlines())\n",
    "    return spanish_dict\n",
    "\n",
    "# Función para contar palabras en maya y español\n",
    "def count_words(text, spanish_dict):\n",
    "    maya_count = 0\n",
    "    spanish_count = 0\n",
    "    words = text.split()  # Divide el texto en palabras\n",
    "    \n",
    "    for word in words:\n",
    "        word_cleaned = word.strip('.,;!?()[]{}\"').lower()  # Elimina signos de puntuación\n",
    "        if word_cleaned in spanish_dict:\n",
    "            spanish_count += 1\n",
    "        else:\n",
    "            maya_count += 1  # Si no está en el diccionario de español, asumimos que es maya\n",
    "    \n",
    "    return maya_count, spanish_count\n",
    "\n",
    "# Cargar el diccionario de español desde un archivo\n",
    "spanish_dict = load_spanish_dictionary('0_palabras_todas.txt')\n",
    "\n",
    "# Ejemplo de texto para analizar\n",
    "text = data[\"Contenido\"][10]\n",
    "print(text)\n",
    "\n",
    "# Llamar la función\n",
    "maya_count, spanish_count = count_words(text, spanish_dict)\n",
    "\n",
    "print(f\"Palabras en maya: {maya_count}\")\n",
    "print(f\"Palabras en español: {spanish_count}\")\n"
   ]
  },
  {
   "cell_type": "code",
   "execution_count": 44,
   "metadata": {},
   "outputs": [
    {
     "name": "stdout",
     "output_type": "stream",
     "text": [
      "se encontraron un total de 51372 palabras en español\n",
      "se encontraron un total de 157662 palabras en maya\n"
     ]
    }
   ],
   "source": [
    "maya_count = 0\n",
    "spanish_count = 0\n",
    "for index, row in data.iterrows():\n",
    "    texto = row['Contenido']\n",
    "    mc, sc = count_words(texto, spanish_dict)\n",
    "    maya_count += mc\n",
    "    spanish_count += sc\n",
    "print(f\"se encontraron un total de {spanish_count} palabras en español\")\n",
    "print(f\"se encontraron un total de {maya_count} palabras en maya\")"
   ]
  }
 ],
 "metadata": {
  "kernelspec": {
   "display_name": "Python 3",
   "language": "python",
   "name": "python3"
  },
  "language_info": {
   "codemirror_mode": {
    "name": "ipython",
    "version": 3
   },
   "file_extension": ".py",
   "mimetype": "text/x-python",
   "name": "python",
   "nbconvert_exporter": "python",
   "pygments_lexer": "ipython3",
   "version": "3.10.12"
  }
 },
 "nbformat": 4,
 "nbformat_minor": 2
}
