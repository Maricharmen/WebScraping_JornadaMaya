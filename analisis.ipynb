{
 "cells": [
  {
   "cell_type": "markdown",
   "metadata": {},
   "source": [
    "# Analisis de datos\n"
   ]
  },
  {
   "cell_type": "code",
   "execution_count": 4,
   "metadata": {},
   "outputs": [],
   "source": [
    "import pandas as pd\n",
    "\n",
    "data = pd.read_csv(\"datos_analisis.csv\")\n"
   ]
  },
  {
   "cell_type": "markdown",
   "metadata": {},
   "source": [
    "### Sobre el número total de noticias:\n",
    "**¿Cuál es el número total de noticias recopiladas?**"
   ]
  },
  {
   "cell_type": "code",
   "execution_count": null,
   "metadata": {},
   "outputs": [
    {
     "name": "stdout",
     "output_type": "stream",
     "text": [
      "El numero total de noticias es 719\n"
     ]
    }
   ],
   "source": [
    "num_filas = data.shape[0]\n",
    "print(f\"El numero total de noticias es {num_filas}\")"
   ]
  },
  {
   "cell_type": "markdown",
   "metadata": {},
   "source": [
    "### Número de noticias por mes:\n",
    "- **¿Cuántas noticias se publicaron cada mes?**\n",
    "- **¿Cuál fue el mes con más y menos noticias publicadas?**"
   ]
  },
  {
   "cell_type": "markdown",
   "metadata": {},
   "source": [
    "### Frecuencia de longitud del contenido:\n",
    "- **¿Cuál es la distribución de las longitudes de las noticias en palabras?**\n",
    "- **¿Cuál es la longitud promedio de las noticias?**"
   ]
  },
  {
   "cell_type": "code",
   "execution_count": null,
   "metadata": {},
   "outputs": [
    {
     "name": "stdout",
     "output_type": "stream",
     "text": [
      "     Total_Palabras  Frecuencia\n",
      "0                 5           1\n",
      "1                33           2\n",
      "2                34           1\n",
      "3                36           1\n",
      "4                37           1\n",
      "..              ...         ...\n",
      "363             890           1\n",
      "364             909           1\n",
      "365             934           1\n",
      "366            1001           1\n",
      "367            1104           1\n",
      "\n",
      "[368 rows x 2 columns]\n"
     ]
    }
   ],
   "source": [
    "import matplotlib.pyplot as plt\n",
    "import seaborn as sns\n",
    "\n",
    "df_palabras = pd.DataFrame(data)\n",
    "\n",
    "def contar_palabras(fila):\n",
    "    return len(fila[\"Contenido\"].split())\n",
    "\n",
    "df_palabras[\"Total_Palabras\"] = df_palabras.apply(contar_palabras, axis = 1)\n",
    "\n",
    "\n",
    "#print(frecuencias)\n"
   ]
  },
  {
   "cell_type": "markdown",
   "metadata": {},
   "source": [
    "### Palabras comunes:\n",
    "**¿Cuáles son las palabras más frecuentes en las noticias?**"
   ]
  },
  {
   "cell_type": "markdown",
   "metadata": {},
   "source": [
    "### Frecuencia de la ubicación de las noticias:\n",
    "- **¿Cuáles son las ubicaciones más mencionadas en las noticias?**\n",
    "- **¿Existen patrones geográficos claros en las noticias publicadas?**"
   ]
  },
  {
   "cell_type": "markdown",
   "metadata": {},
   "source": [
    "### Análisis del traductor maya-español:\n",
    "- **¿Cuántas palabras en las noticias están escritas en maya?**\n",
    "- **¿Cuántas palabras provienen del español?**\n",
    "- **¿Existen palabras que aparecen tanto en maya como en español?**"
   ]
  }
 ],
 "metadata": {
  "kernelspec": {
   "display_name": "Python 3",
   "language": "python",
   "name": "python3"
  },
  "language_info": {
   "codemirror_mode": {
    "name": "ipython",
    "version": 3
   },
   "file_extension": ".py",
   "mimetype": "text/x-python",
   "name": "python",
   "nbconvert_exporter": "python",
   "pygments_lexer": "ipython3",
   "version": "3.13.1"
  }
 },
 "nbformat": 4,
 "nbformat_minor": 2
}
