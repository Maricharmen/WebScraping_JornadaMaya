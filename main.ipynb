{
 "cells": [
  {
   "cell_type": "markdown",
   "metadata": {},
   "source": [
    "# Web Scraping"
   ]
  },
  {
   "cell_type": "markdown",
   "metadata": {},
   "source": [
    "### Importar librerias"
   ]
  },
  {
   "cell_type": "code",
   "execution_count": 25,
   "metadata": {},
   "outputs": [],
   "source": [
    "import requests\n",
    "import random\n",
    "import pandas as pd\n",
    "import re\n",
    "from bs4 import BeautifulSoup\n",
    "from fake_useragent import UserAgent"
   ]
  },
  {
   "cell_type": "markdown",
   "metadata": {},
   "source": [
    "### Recupera todos los enlaces de artículos de una página específica (por mes)"
   ]
  },
  {
   "cell_type": "code",
   "execution_count": 26,
   "metadata": {},
   "outputs": [],
   "source": [
    "def get_links(url):\n",
    "    \n",
    "    try:\n",
    "        ua = UserAgent()\n",
    "        headers = {\"User-Agent\" : ua.random}\n",
    "        data = requests.get(url, headers=headers)\n",
    "        soup = BeautifulSoup(data.text, \"html5lib\")\n",
    "        \n",
    "        all_links = []\n",
    "        \n",
    "        contents = soup.find_all(\"div\", class_=\"single-blog-content\")\n",
    "        \n",
    "        for content in contents:\n",
    "            links = content.find_all(\"a\", target = \"_blank\")\n",
    "        \n",
    "            for link in links:\n",
    "                all_links.append(link.get(\"href\"))\n",
    "        \n",
    "        return all_links\n",
    "    \n",
    "    except requests.exceptions.RequestException as e:\n",
    "        print(f\"Error en la URL {url}: {e}\")\n",
    "        return []"
   ]
  },
  {
   "cell_type": "markdown",
   "metadata": {},
   "source": [
    "### Construye la URL de la página correspondiente al mes y llama a get_links() para obtener los enlaces de artículos publicados en ese mes."
   ]
  },
  {
   "cell_type": "code",
   "execution_count": 27,
   "metadata": {},
   "outputs": [],
   "source": [
    "def find_all_links_in_month(month):\n",
    "    url = \"https://www.lajornadamaya.mx/k'iintsil/{}-2021\".format(month)\n",
    "    return get_links(url)"
   ]
  },
  {
   "cell_type": "markdown",
   "metadata": {},
   "source": [
    "###  Extrae la información de un artículo a partir de su enlace, extrayendo Fecha - Titulo - Contenido"
   ]
  },
  {
   "cell_type": "code",
   "execution_count": 28,
   "metadata": {},
   "outputs": [],
   "source": [
    "def get_info(link):\n",
    "    \n",
    "    try:\n",
    "        ua = UserAgent()\n",
    "        headers = {\"User-Agent\" : ua.random}\n",
    "        data = requests.get(link, headers=headers)\n",
    "        soup = BeautifulSoup(data.text, \"html5lib\")\n",
    "        \n",
    "        # Busqueda del titulo\n",
    "        try:\n",
    "            title = soup.find(\"h1\").get_text(strip=True) \n",
    "        except AttributeError:\n",
    "            print(f\"Título no encontrado: {link}\")\n",
    "            title = \"Sin Titulo\"\n",
    "        # Opcional: Busqueda de la ubicacion\n",
    "        # Busqueda de la fecha\n",
    "        try:\n",
    "            info = soup.find(\"div\", class_=\"post-meta\")\n",
    "            if not info:\n",
    "                raise ValueError(\"Informacion no encontrada\")\n",
    "            \n",
    "            date_pattern = r\"\\d{2}/\\d{2}/\\d{4}\"\n",
    "            date_match = re.search(date_pattern, info.get_text())\n",
    "            if not date_match:\n",
    "                raise ValueError(\"Fecha no encontrada\")\n",
    "             \n",
    "            date = date_match.group().strip() \n",
    "            \n",
    "        except (AttributeError, ValueError) as e:\n",
    "            print(f\"Error al extraer la fecha: {link}\")\n",
    "            date = \"Fecha desconocida\"\n",
    "        \n",
    "        # Busqueda del contenido\n",
    "        try:\n",
    "            article = info.find_next(\"p\").find_next(\"p\")\n",
    "            text = \"\"\n",
    "            if not article:\n",
    "                raise ValueError(\"Articulo no encontrado\")\n",
    "            \n",
    "            paragraphs = article.find_all_next(\"p\")\n",
    "            for paragraph in paragraphs :\n",
    "                if not paragraph.find(\"strong\"):\n",
    "                    text += paragraph.get_text() + \"\\n\"\n",
    "                \n",
    "        except (AttributeError, ValueError) as e:\n",
    "            print(f\"Error al extraer el articulo: {link}\")\n",
    "            text = \"Contenido no disponible\"\n",
    "            \n",
    "        # Opcional: Busqueda del autor\n",
    "        # Opcional: Busqueda del traductor\n",
    "        \n",
    "        return {\n",
    "            \"Fecha\": date,\n",
    "            #\"Author\": author,\n",
    "            #\"Traductor\": traductor,\n",
    "            #\"Ubicacion\": location,\n",
    "            \"Titulo\": title,\n",
    "            \"Contenido\": text.strip()\n",
    "        }\n",
    "         \n",
    "    except requests.exceptions.RequestException as e:\n",
    "        print(f\"Error en la URL {link}: {e}\")\n",
    "        return None"
   ]
  },
  {
   "cell_type": "markdown",
   "metadata": {},
   "source": [
    "### Procesa el scraping para cada mes del año\n",
    " - Recuperando los enlaces y los detalles de cada artículo\n",
    " - Guardándolos en un archivo .csv llamado datos.csv."
   ]
  },
  {
   "cell_type": "code",
   "execution_count": 29,
   "metadata": {},
   "outputs": [],
   "source": [
    "def scraping():\n",
    "    months = [\"enero\", \"febrero\", \"marzo\", \"abril\", \"mayo\", \"junio\", \"julio\", \"agosto\", \"septiembre\", \"octubre\", \"noviembre\", \"diciembre\"]\n",
    "    df = pd.DataFrame()\n",
    "    dfs = []\n",
    "    for month in months:\n",
    "        all_links = find_all_links_in_month(month)\n",
    "        \n",
    "        data_month = []\n",
    "    \n",
    "        print(f\"Mes:{month}, Total: {len(all_links)} \\n\")\n",
    "        \n",
    "        for link in all_links:\n",
    "            if link: \n",
    "                info = get_info(link)\n",
    "                if info:\n",
    "                    data_month.append(info)\n",
    "            \n",
    "        df_month = pd.DataFrame(data_month)\n",
    "        dfs.append(df_month)\n",
    "        \n",
    "    df = pd.concat(dfs, ignore_index=True)\n",
    "    df.to_csv(\"datos.csv\", index=False, encoding='utf-8')\n",
    "       \n"
   ]
  },
  {
   "cell_type": "code",
   "execution_count": 30,
   "metadata": {},
   "outputs": [
    {
     "name": "stdout",
     "output_type": "stream",
     "text": [
      "Mes:enero, Total: 55 \n",
      "\n",
      "Mes:febrero, Total: 51 \n",
      "\n",
      "Mes:marzo, Total: 61 \n",
      "\n",
      "Mes:abril, Total: 54 \n",
      "\n",
      "Mes:mayo, Total: 59 \n",
      "\n",
      "Mes:junio, Total: 64 \n",
      "\n",
      "Mes:julio, Total: 67 \n",
      "\n",
      "Mes:agosto, Total: 66 \n",
      "\n",
      "Mes:septiembre, Total: 56 \n",
      "\n",
      "Mes:octubre, Total: 68 \n",
      "\n",
      "Mes:noviembre, Total: 66 \n",
      "\n",
      "Mes:diciembre, Total: 52 \n",
      "\n"
     ]
    }
   ],
   "source": [
    "scraping()"
   ]
  },
  {
   "cell_type": "markdown",
   "metadata": {},
   "source": [
    "# Deteccion de maya usando enegramas "
   ]
  },
  {
   "cell_type": "code",
   "execution_count": null,
   "metadata": {},
   "outputs": [
    {
     "name": "stdout",
     "output_type": "stream",
     "text": [
      "Idioma detectado: maya\n",
      "Similitudes: {'maya': 0.7619047619047619, 'es': 0.7142857142857143}\n",
      "Counter({'al ': 187, ' ca': 174, 'il ': 167, 'in ': 163, ' tu': 159, 'ch ': 157, 'an ': 118, ' ti': 109, 'ech': 107, 'el ': 106, 'ix ': 106, ' in': 103, ' la': 98, ' ci': 97, 'tu ': 92, ' ù ': 91, ' ya': 90, 'ob ': 87, ' te': 86, 'l t': 83, ' ma': 83, 'ic ': 82, 'ti ': 82, 'ich': 82, 'ca ': 81, 'en ': 78, ' ú ': 76, 'ah ': 73, 'l c': 72, 'ay ': 70, ' à ': 70, 'lic': 69, 'hun': 68, 'n t': 66, 'bal': 65, ' ta': 65, ' ka': 65, 'tec': 62, ' ua': 60, 'eba': 59, 'cil': 59, 'tic': 58, ' ba': 58, 'ili': 56, 'n c': 55, 'ma ': 55, 'h t': 55, 'xan': 54, 'lay': 52, 'tan': 52, ' cu': 51, 'ac ': 49, 'bil': 48, 'chi': 48, 'ul ': 47, 'zil': 47, 'a c': 47, 'hil': 46, 'aix': 46, 'kin': 45, ' yu': 44, 'l y': 43, ' pa': 43, ' ki': 43, ' na': 42, 'lal': 42, 'e c': 42, ' ix': 42, ' he': 41, 'tzi': 41, 'men': 41, 'ten': 41, 'a t': 40, ' ah': 40, ' hu': 40, 'ppe': 40, ' yo': 40, ' zi': 40, ' dz': 39, 'pel': 39, 'il\\n': 39, 'lae': 38, 'aba': 38, 'tel': 38, 'c t': 38, 'le ': 38, ' á ': 38, 'ete': 37, 'hal': 36, 'ae ': 36, 'ban': 36, 'kab': 36, 'mil': 36, 'tul': 35, 'uch': 35, 'aha': 35, 'lob': 35, 'yet': 35, 'keb': 35, ' bi': 35, 'yum': 34, 'ua ': 34, 'n y': 34, 'ol ': 34, ' a ': 34, ' lu': 34, 'nah': 33, 'l l': 33, 'cah': 33, 'l i': 33, ' ui': 33, ' ch': 32, 'bin': 32, 'ile': 32, 'ci ': 32, 'l u': 31, 'nil': 31, 'x t': 31, ' ye': 31, 'h c': 31, ' u ': 31, 'unt': 30, 'ini': 30, 'e t': 30, 'kla': 30, 'un ': 30, 'zin': 30, 'lac': 29, 'aca': 29, 'tal': 29, ' nu': 29, 'tum': 29, 'n k': 29, 'lti': 28, 'cux': 28, ' to': 28, 'cun': 28, 'yal': 28, 'ne ': 28, 'h i': 28, 'l ú': 27, 'pix': 27, 'ixa': 27, 'l ù': 27, 'ali': 27, 'yok': 27, 'ahu': 27, 'um ': 27, 'dza': 27, 'ohi': 26, ' ke': 26, 'ume': 26, 'b t': 26, 'lah': 26, 'u k': 26, 'a u': 26, 'l à': 26, 'kul': 25, 'lil': 25, 'okl': 25, 'oko': 25, 'cec': 25, 'cin': 25, 'ula': 24, 'heb': 24, ' ha': 24, 'u t': 24, 'l b': 24, 'e b': 24, 'hel': 24, 'ici': 24, 'ab ': 24, 'kal': 24, 'al\\n': 24, 'cal': 23, 'ano': 23, 'cu ': 23, 'i c': 23, 'che': 23, ' pi': 23, 'cul': 23, 'ilo': 23, 'yan': 23, 'nal': 23, 'n u': 23, 'e u': 23, 'ala': 23, '\\nu ': 23, 'be ': 22, 'dio': 22, 'ù k': 22, 'l m': 22, 'nob': 22, 'tun': 22, 'ahl': 22, 'on ': 22, 'h y': 22, ' je': 22, 'jes': 22, 'esu': 22, 'n p': 22, 'ex ': 22, 'abi': 21, ' uc': 21, 'nta': 21, 'naa': 21, ' me': 21, 'bay': 21, 'uil': 21, 'a a': 21, 'lub': 21, 'n h': 20, 'ola': 20, ' be': 20, 'ani': 20, 'ios': 20, 'ane': 20, 'ba ': 20, 'num': 20, '\\ntu': 20, 'loh': 20, 'ele': 20, ' tz': 20, 'bol': 19, 'uc ': 19, 'alt': 19, 'tac': 19, ' di': 19, 'ult': 19, 'unp': 19, 'ent': 19, 'hlo': 19, 'cru': 19, 'ruz': 19, ' pu': 19, 'puc': 19, 'ale': 19, 'sus': 19, 'u y': 19, 'se ': 19, 'n l': 19, 'dzi': 18, 'uxt': 18, 'xta': 18, 'ucu': 18, 'n ù': 18, 'n a': 18, 'n m': 18, 'cai': 18, 'ina': 18, 'c c': 18, ' xa': 18, ' cr': 18, 'cim': 18, 'ama': 18, 'l a': 18, ' ku': 18, ' ho': 18, 'u c': 18, 'cat': 18, ' uo': 18, 'b c': 17, ' t ': 17, 'toh': 17, 'acu': 17, 'i t': 17, 'l h': 17, 'bai': 17, 'tib': 17, 'man': 17, 'umi': 17, 'ucz': 17, 'czi': 17, 'zik': 17, 'tah': 17, ' ok': 17, 'lel': 17, 'npp': 16, 'ice': 16, 'n b': 16, 'n i': 16, 'a y': 16, 'aci': 16, ' zu': 16, 'ú k': 16, 'zic': 16, 'ata': 16, 'ya ': 16, 'lab': 16, 'os ': 16, 'imi': 16, 'kat': 16, 'uz ': 16, 'i i': 16, 'à c': 16, 'tia': 15, 'unk': 15, 'ù n': 15, 'a b': 15, 'x i': 15, 'ibi': 15, 'ana': 15, 'bic': 15, 'u h': 15, 'cob': 15, 'use': 15, ' ce': 15, 'cab': 14, 'ic\\n': 14, 'hah': 14, 'ù t': 14, 'tab': 14, 'pul': 14, 'u p': 14, 'te ': 14, 'an\\n': 14, 'zab': 14, 'atz': 14, 'ine': 14, 'una': 14, 'ela': 14, ' al': 14, 'muk': 14, 'c i': 14, ' za': 14, 'ta ': 14, ' co': 14, 'huc': 14, 'uin': 14, 'aan': 13, 'c ú': 13, 'ú n': 13, 'nku': 13, 'e l': 13, ' ù\\n': 13, 'cho': 13, ' ic': 13, 'l k': 13, 'adz': 13, 'aya': 13, 'umy': 13, 'mya': 13, 'cic': 13, 'int': 13, 'ika': 13, 'oon': 13, 'ant': 13, 'kol': 13, 'yac': 13, 'ch\\n': 13, 'en\\n': 13, 'e y': 13, ' lo': 13, 'abt': 13, 'u u': 13, 'olt': 12, 'uac': 12, 'la ': 12, 'he ': 12, 'aht': 12, 'h n': 12, 'mac': 12, 'och': 12, 'ene': 12, 'zah': 12, 'tuc': 12, 'ike': 12, 'ila': 12, 'pak': 12, 'col': 12, 'nte': 12, 'h u': 12, 'a i': 12, ' c ': 12, 'b y': 12, 'l\\nt': 12, 'a l': 12, 'h l': 12, 'can': 12, 'luu': 12, 'uum': 12, 'oob': 11, 'nac': 11, 'ahi': 11, 'ú t': 11, ' ut': 11, 'ae\\n': 11, 'a ù': 11, ' mu': 11, 'ù c': 11, 'x u': 11, 'y t': 11, 'nel': 11, 'hac': 11, 'a p': 11, 'pay': 11, 'alc': 11, 'kik': 11, 'kel': 11, '\\ncu': 11, ' xi': 11, 'e\\nu': 11, 'lta': 11, 'yat': 11, ' bo': 11, 'l p': 11, 'y c': 11, 'pac': 11, 'ach': 11, 'tam': 11, 'uk ': 11, 'ual': 11, '\\nca': 11, 'ez ': 11, 'in\\n': 11, 'x à': 11, 'cen': 11, 'nic': 11, 'ah\\n': 11, 'yic': 11, 'ú c': 10, 'uti': 10, 'a h': 10, 'x h': 10, 'hoc': 10, 'oe ': 10, 'n ú': 10, 'aki': 10, 'i h': 10, 'izi': 10, 'cha': 10, 'nan': 10, 'l z': 10, ' pp': 10, 'ben': 10, 'obe': 10, 'hi ': 10, 'nto': 10, 'amu': 10, 'oco': 10, 't c': 10, 'uol': 10, 'l á': 10, 'zip': 10, 'a à': 10, 'ilk': 10, 'c j': 10, 'cap': 10, 'n n': 10, ' yi': 10, 'chr': 9, 'hri': 9, 'ris': 9, 'ist': 9, 'n x': 9, 'ú p': 9, 'e h': 9, 'b u': 9, 'ial': 9, '\\nla': 9, 'nuc': 9, ' û ': 9, 'lma': 9, '\\nhe': 9, 'cx ': 9, 'muc': 9, 'ce ': 9, 'loe': 9, 'pal': 9, 'axa': 9, 'cpp': 9, 'n z': 9, 'had': 9, 'c u': 9, 'l\\nc': 9, 'kil': 9, 'lan': 9, 'at ': 9, 'olo': 9, 'lon': 9, ' no': 9, 'a k': 9, 'inc': 9, 'chu': 9, 'uuc': 9, 'u b': 9, 'yam': 9, 'b l': 9, 'edz': 9, 'ail': 9, 'ate': 9, 'a z': 9, 'lka': 9, 'ubc': 9, 'mai': 9, 'i l': 9, 'l\\nu': 9, 'h a': 9, '\\nma': 9, 'zib': 8, 'ibo': 8, 'mah': 8, 'hta': 8, 'x m': 8, 'ohp': 8, 'hpu': 8, 'cli': 8, 'nix': 8, 'b i': 8, 'nti': 8, 'lte': 8, '\\nha': 8, 'hin': 8, 'ciz': 8, 'ob\\n': 8, '\\nuc': 8, 'h b': 8, 'ntz': 8, 'utz': 8, 'kam': 8, '\\nka': 8, 'lbe': 8, 'ank': 8, 'nki': 8, 'zac': 8, 'ntu': 8, 'm t': 8, 'pah': 8, 'to ': 8, 'atu': 8, 'c y': 8, 'le\\n': 8, 'l o': 8, 'kot': 8, 'otb': 8, 'tba': 8, ' li': 8, 'n\\nc': 8, 'e z': 8, 'à y': 8, 'ita': 8, 'ubi': 8, 'bci': 8, 'á c': 8, 'bac': 8, 'dze': 8, 'e a': 8, 'à u': 8, 'ubu': 8, 'bul': 8, ' uu': 8, 'ù d': 7, 'bla': 7, 'e ù': 7, 'alm': 7, 'e k': 7, 'ucl': 7, 'li ': 7, 'u m': 7, 'h ù': 7, 'met': 7, 'etn': 7, 'tna': 7, 'ù m': 7, '\\nù ': 7, 'lch': 7, 'l x': 7, 'dz ': 7, 'lak': 7, '\\nci': 7, 'n\\nt': 7, 'x ù': 7, 'y b': 7, 'too': 7, 'h h': 7, 'n d': 7, 'uai': 7, 'i y': 7, 'z c': 7, ' sa': 7, 'm y': 7, 'lik': 7, 'el\\n': 7, 'x a': 7, 'ati': 7, ' ox': 7, 'ak ': 7, 'kub': 7, 'x l': 7, 'bte': 7, 'lai': 7, 'ahk': 7, 'ace': 7, 'lbi': 7, 'len': 7, 'l\\nb': 7, '\\n m': 7, 'l\\n ': 7, 'bee': 7, 'sti': 6, 'ian': 6, 'xul': 6, 'uli': 6, 'y ù': 6, 'x y': 6, 't ù': 6, 'uax': 6, 'xac': 6, 'x b': 6, 'bah': 6, 'uba': 6, 'iui': 6, 'mat': 6, 'xic': 6, 'i ù': 6, 'l n': 6, 'nci': 6, '\\nya': 6, 'kah': 6, 'hic': 6, 'eel': 6, 'bez': 6, 'lat': 6, 'atc': 6, 'unh': 6, 'nhu': 6, 'toc': 6, 'h k': 6, 'cio': 6, 'b h': 6, 'em ': 6, 'ucp': 6, 'nen': 6, 'a x': 6, ' xo': 6, 'poc': 6, 'icu': 6, 'z t': 6, 'coo': 6, 'c a': 6, 'a d': 6, 'l d': 6, 'yn ': 6, 'i u': 6, ' po': 6, 'tez': 6, 'chc': 6, 'pen': 6, 'tep': 6, 'uok': 6, 'huy': 6, 'uy ': 6, 'cte': 6, 'om ': 6, 'uic': 6, 'tze': 6, 'à p': 6, 'hol': 6, 'c l': 6, 'yox': 6, 'c h': 6, 'i ú': 6, 'cel': 6, 'cht': 6, 'hte': 6, 'x c': 6, 'tuz': 6, 'noh': 6, 'iti': 6, 'i m': 6, 'uxl': 6, 'c à': 6, 'zed': 6, 'bel': 6, 'x á': 6, 'hke': 6, 'imb': 6, 'á u': 6, '\\nua': 6, 'eex': 6, 'idz': 6, 'l\\nm': 6, '\\nba': 6, 'noo': 5, 'u d': 5, 'caa': 5, ' xu': 5, 'c m': 5, 'c\\nl': 5, ' bl': 5, 'l û': 5, '\\nye': 5, 'aab': 5, 'les': 5, 'iae': 5, 'acx': 5, 'et ': 5, 'eli': 5, ' et': 5, 'san': 5, 'a ú': 5, 'acp': 5, 'ù y': 5, 'y ú': 5, 'ú m': 5, 'ohe': 5, 'uki': 5, 'e m': 5, 'lt ': 5, 't h': 5, 'ul\\n': 5, 'kak': 5, 'u l': 5, 'anc': 5, 'ino': 5, 'piz': 5, 'mab': 5, 'u n': 5, 'eix': 5, 'tu\\n': 5, 'ehe': 5, 'hen': 5, '\\nch': 5, 'hii': 5, 'npi': 5, 'liz': 5, 'zcu': 5, 'tzu': 5, 'm l': 5, 'sac': 5, 'i a': 5, 'ax ': 5, 'eno': 5, 'nol': 5, 'ilb': 5, 'ppo': 5, 'oc ': 5, 'e\\nt': 5, 'alo': 5, 'á z': 5, 'zat': 5, 'hci': 5, 'e i': 5, 'u z': 5, 'ipe': 5, 'inp': 5, 'npu': 5, 'epa': 5, 'aa ': 5, 'ole': 5, 'zuh': 5, 'uhu': 5, 'y m': 5, 'ia ': 5, ' â ': 5, 'nec': 5, 'app': 5, 'cie': 5, 'tzo': 5, ' à\\n': 5, 'pol': 5, 'hoo': 5, 'bak': 5, 'k c': 5, 'oxp': 5, 'tee': 5, 'á t': 5, 'cac': 5, 'act': 5, 'z l': 5, 'h m': 5, 'xli': 5, 'bi ': 5, 'à n': 5, 'dzu': 5, 'kaz': 5, ' ec': 5, '\\nte': 5, 'put': 5, 'nt ': 5, 'aua': 5, 'c k': 5, 'xim': 5, 'mba': 5, 'etz': 5, 'y l': 5, 'mal': 5, 'n à': 5, 'cex': 5, 'ai ': 5, 'h\\nu': 5, 'hau': 5, 'tin': 5, 'c á': 5, '\\nti': 5, 'n\\n ': 5, 'à l': 5, 'ab\\n': 5, 'c n': 4, 'ulu': 4, 'luc': 4, 'c\\nh': 4, '\\nhu': 4, 'heu': 4, 'eua': 4, 'û t': 4, 'gle': 4, 'esi': 4, 'sia': 4, 'yx ': 4, 'abe': 4, 'bet': 4, 'pai': 4, 'ú y': 4, 'yuk': 4, 'ca\\n': 4, 'pad': 4, 'adr': 4, 'dre': 4, 're ': 4, 'elt': 4, 'zuk': 4, ' ú\\n': 4, 'z i': 4, 'b\\nu': 4, 'c ù': 4, 'n\\ny': 4, 'h d': 4, ' u\\n': 4, 'aza': 4, 'icx': 4, 'uze': 4, 'i d': 4, 'zbe': 4, '\\nbi': 4, 'cu\\n': 4, ' an': 4, 'hei': 4, 'umb': 4, 'mbi': 4, 'meh': 4, 'n j': 4, 'nca': 4, 'olb': 4, 'pat': 4, 'n\\nh': 4, 'iil': 4, 'onp': 4, 'til': 4, 'hba': 4, 'ion': 4, 'sto': 4, 'zuc': 4, 'lem': 4, 'ico': 4, 'acr': 4, 'cra': 4, 'ram': 4, 'ame': 4, 'yax': 4, 'yol': 4, 'hop': 4, 'opp': 4, 'ose': 4, ' es': 4, 'yai': 4, 'uah': 4, 'zal': 4, ' ol': 4, 'e o': 4, 'à z': 4, '\\nin': 4, 'h z': 4, 'yah': 4, 'a m': 4, 'mar': 4, 'ari': 4, 'ria': 4, 'elo': 4, 'zan': 4, 'nka': 4, 'ict': 4, 'ay\\n': 4, 'h o': 4, 'kom': 4, 'oxk': 4, '\\nok': 4, 'ac\\n': 4, ' a\\n': 4, 'olh': 4, 'x ú': 4, 'kii': 4, 'iix': 4, 'xla': 4, 'hok': 4, 'akl': 4, 'b à': 4, '\\nna': 4, 'tza': 4, ' ue': 4, 't i': 4, 'nup': 4, 'à k': 4, 'i á': 4, 'á p': 4, 'oh ': 4, 'ya\\n': 4, 'ix\\n': 4, 'hit': 4, 'ie ': 4, 'han': 4, 'à m': 4, 'hla': 4, 'zuu': 4, 'azi': 4, '\\ndz': 4, 'yut': 4, 'abo': 4, 'l e': 4, 'bae': 4, 'apu': 4, 'ut ': 4, '\\nix': 4, 'l\\ni': 4, ' oc': 4, 'ato': 4, 'ikz': 4, 'i p': 4, 'm k': 4, 'ule': 4, 'á n': 4, 'kax': 4, 'tex': 4, 'lex': 4, 'ci\\n': 4, 'dzo': 4, 'zob': 4, 'uid': 4, 'nex': 4, 'exe': 4, 'ù h': 4, 'i j': 4, 'anh': 4, 'lce': 4, '\\nta': 4, 't d': 4, 'à t': 4, 't ú': 3, 'hib': 3, 'ibe': 3, 'b d': 3, 's\\ny': 3, 'e\\nh': 3, 'ahp': 3, 'ixn': 3, 'xna': 3, 'umt': 3, '\\nmu': 3, 'may': 3, 'ayx': 3, 'e e': 3, '\\nza': 3, 'ú z': 3, 'zub': 3, 'ima': 3, 'ktu': 3, 'a\\nù': 3, 'hob': 3, 'yoh': 3, ' ub': 3, ' iu': 3, 'ox ': 3, 'hec': 3, 'nat': 3, 't u': 3, 'lix': 3, 'u\\ny': 3, 'x x': 3, 's t': 3, 'ppi': 3, 'izb': 3, 'nov': 3, 'ove': 3, 'ven': 3, 'ena': 3, 'na ': 3, 'ahz': 3, 'pet': 3, 'y n': 3, 'aob': 3, 'be\\n': 3, 'mol': 3, 'us ': 3, 'ze ': 3, 'enb': 3, 'nbi': 3, 'lha': 3, 'iz ': 3, 'ù\\nk': 3, 'c b': 3, 'a n': 3, 'ped': 3, 'z o': 3, ' ne': 3, 'bei': 3, 'npa': 3, 'xol': 3, 'u\\nh': 3, '\\nyu': 3, 'itu': 3, ' \\nc': 3, 'ik ': 3, '\\nyn': 3, 'oce': 3, 'ntc': 3, 'cce': 3, '\\nxa': 3, 'ipi': 3, 'pil': 3, 'hez': 3, 'z u': 3, 'b b': 3, ' au': 3, 'ohc': 3, 'k i': 3, 'o t': 3, 'bti': 3, 't t': 3, ' yn': 3, 'pic': 3, 'zaz': 3, 'ioo': 3, 'ù l': 3, 'b a': 3, 'a\\nc': 3, 'zem': 3, 'uka': 3, 'otz': 3, 'lhu': 3, 'ilc': 3, 'b á': 3, 'ool': 3, 'hti': 3, 'hce': 3, 'ti\\n': 3, 'ahe': 3, 'y à': 3, 'une': 3, 'cuc': 3, 'uet': 3, 'toi': 3, 'oil': 3, 'a á': 3, 'okc': 3, 'à d': 3, 'l\\nà': 3, '\\nà ': 3, 'a j': 3, 'uzi': 3, 'ù p': 3, 'u x': 3, 'iit': 3, 'á y': 3, 'x k': 3, 'i b': 3, 'hie': 3, 'kza': 3, 'umu': 3, 'uu ': 3, 'u i': 3, '\\nzi': 3, 'a\\np': 3, 'ocb': 3, 'x o': 3, 'y k': 3, 'y á': 3, 'k y': 3, '\\nah': 3, 'i à': 3, 'zay': 3, 'i k': 3, 'kic': 3, 'n\\nk': 3, 'nhi': 3, 'xki': 3, 'n á': 3, 'tix': 3, 'ua\\n': 3, 'a\\ni': 3, 'cit': 3, 'bab': 3, 'c z': 3, 'h x': 3, 'ulb': 3, 'uct': 3, 'anb': 3, 'luk': 3, 'aka': 3, 'ni ': 3, 'kay': 3, 'mul': 3, 'a\\nu': 3, 'i\\nu': 3, 'm b': 3, 'xoc': 3, 'xe ': 3, 'coc': 3, 'uci': 3, 'y i': 3, 'yaa': 3, 'aal': 3, 'y u': 3, 'zih': 3, '\\nbe': 3, 'nha': 3, '\\n u': 3, 'ec ': 3, 'uxa': 3, 'h\\n ': 3, 'z à': 3, 'aac': 3, 'zam': 3, 'xpp': 3, 'anp': 3, ' bê': 2, 'bêo': 2, 'êob': 2, 'os\\n': 2, ' yg': 2, 'ygl': 2, 'hey': 2, 'eyx': 2, 'hpi': 2, 'mtz': 2, 't m': 2, 'ù\\nm': 2, 'etp': 2, 'tpi': 2, 'pis': 2, 'isa': 2, 'uca': 2, 'ù\\np': 2, '\\npi': 2, 'enl': 2, 'nlo': 2, 'ulm': 2, 'ù\\nz': 2, 'ubt': 2, 'bta': 2, 'aim': 2, 'ukt': 2, 'ukc': 2, 'kch': 2, 't p': 2, 'ú\\nh': 2, 'tox': 2, 'tad': 2, 'ltu': 2, 'm û': 2, 'û n': 2, ' \\ny': 2, 'cla': 2, 'no ': 2, 'o y': 2, 'u\\nk': 2, ' pe': 2, 'yao': 2, 'akt': 2, 'umo': 2, 's y': 2, 'lee': 2, 'uco': 2, ' c\\n': 2, 'ú b': 2, 'zon': 2, 'b k': 2, 'zad': 2, 'tcu': 2, 'e ú': 2, 'onk': 2, 'ppa': 2, '\\nyo': 2, 'yot': 2, 'oto': 2, 'z k': 2, 'yui': 2, 'rac': 2, 'xte': 2, 'izc': 2, 'ù\\nc': 2, 'am ': 2, 'cpa': 2, 'npe': 2, 's h': 2, 'tar': 2, 'ar ': 2, '  y': 2, 'uce': 2, 'k ú': 2, 'h ú': 2, 'eil': 2, 'hua': 2, 's m': 2, 's e': 2, 'esp': 2, 'spi': 2, 'pir': 2, 'iri': 2, 'rit': 2, 'u s': 2, 'o \\n': 2, 'k l': 2, 'e j': 2, 'hza': 2, 'hul': 2, 'lcu': 2, 'tce': 2, 'ayn': 2, 'ynu': 2, 'ahc': 2, 'n o': 2, 'hih': 2, ' hi': 2, 'hiu': 2, 'ain': 2, 'hat': 2, 'lam': 2, 'occ': 2, 'e d': 2, 'on\\n': 2, 'n\\nu': 2, 'tz ': 2, 'z a': 2, 'hco': 2, 'eme': 2, 'anl': 2, 'l\\nd': 2, '\\ndi': 2, 'upe': 2, 'k a': 2, 'cia': 2, 'uoh': 2, '\\nno': 2, 'xka': 2, 'l\\no': 2, 'kob': 2, 'yem': 2, 'acl': 2, 'aui': 2, 'es ': 2, ' se': 2, 'sci': 2, 'ien': 2, 'tos': 2, ' mi': 2, 'y d': 2, 's p': 2, 'ue ': 2, 'o m': 2, ' ju': 2, 'jud': 2, 'udi': 2, 'k ù': 2, 'm u': 2, 'tuk': 2, 'zot': 2, '\\npo': 2, 'lco': 2, 'b\\nc': 2, 'dzc': 2, 'zci': 2, 'iec': 2, 'oxl': 2, 'apa': 2, 'ppu': 2, 'i\\nc': 2, 'xpe': 2, 'lne': 2, 'h\\ny': 2, 'upo': 2, 'pob': 2, 'kca': 2, 'ilh': 2, 'z y': 2, 'cta': 2, '\\nce': 2, 'à h': 2, '\\ná ': 2, 'á d': 2, 'aol': 2, 'ipc': 2, 'pci': 2, 'ulp': 2, 'lpa': 2, 'eza': 2, 'y p': 2, 'yay': 2, 'kya': 2, 'cix': 2, 'ami': 2, 'nch': 2, 'ahb': 2, 'l\\np': 2, '\\npa': 2, 'okz': 2, 'e\\nz': 2, 'tch': 2, 'n e': 2, 'cbi': 2, 'aho': 2, 'z p': 2, '\\na ': 2, 'h p': 2, 'zee': 2, 'eta': 2, 'i z': 2, 'udz': 2, 'cti': 2, 'à\\nd': 2, 'h\\nt': 2, 'bob': 2, 'l\\na': 2, 'â p': 2, 'zut': 2, 'utb': 2, 'tbe': 2, 'kuu': 2, 'mci': 2, 'kte': 2, 'zul': 2, 'h\\nk': 2, '\\nku': 2, 'uta': 2, 'nab': 2, 'l\\ny': 2, ' en': 2, 'eob': 2, 'b o': 2, 'ol\\n': 2, '\\nic': 2, 'epp': 2, 'tob': 2, 'b z': 2, 'b\\nt': 2, 'oki': 2, 'zio': 2, 'oe\\n': 2, 'ù b': 2, 'yub': 2, 'pec': 2, 'dzb': 2, 'io ': 2, '\\npu': 2, 'hio': 2, 'iob': 2, 'l\\nú': 2, '\\nú ': 2, 'x d': 2, ' ni': 2, 'ib ': 2, 'mic': 2, 'non': 2, 'nbe': 2, ' ko': 2, 'c p': 2, 'con': 2, 'kan': 2, 'alb': 2, '\\nlu': 2, 'ube': 2, '\\nyi': 2, 'm c': 2, 'amc': 2, 'i û': 2, ' û\\n': 2, 'y o': 2, 'lec': 2, '\\nke': 2, 'x e': 2, 'akm': 2, 'kma': 2, 'az ': 2, '\\npp': 2, 'ubz': 2, 'axl': 2, 'b x': 2, '\\nui': 2, 'kzi': 2, 'nok': 2, 'oic': 2, 'zid': 2, 'zii': 2, 'yil': 2, 'ncl': 2, 'aex': 2, 'hek': 2, 'uye': 2, 'ke ': 2, 'hex': 2, 'ixm': 2, 'aat': 2, 't z': 2, 'ihi': 2, 'a\\nd': 2, 'zai': 2, 'aic': 2, 'cbe': 2, 'e\\nb': 2, 'oca': 2, 'k t': 2, 'c\\nm': 2, 'okt': 2, 'kti': 2, 'l\\nh': 2, 'c\\nt': 2, 'h\\nc': 2, 'bco': 2, 'l \\n': 2, 'zec': 2, 'him': 2, 'im\\n': 2, 'ulc': 2, 'ohl': 2, 'à b': 2, '\\n t': 2, '\\n c': 2, 'max': 2, 'i x': 2, 'emi': 2, 'eni': 2, 'zoc': 2, '\\n n': 2, 'chp': 2, 'hpa': 2, 'xma': 2, ' ac': 2, 'ait': 2, 'b\\n ': 2, 'ù x': 2, 'c o': 2, 'ezc': 2, 'ee ': 2, 'aa\\n': 2, 'laa': 2, 'suc': 2, ' ig': 2, 'igl': 2, 'ota': 2, 'rim': 2, 'b \\n': 1, 'yaz': 1, 'ze\\n': 1, 'tz\\n': 1, 'z\\nb': 1, 'a û': 1, 'û y': 1, 'hzi': 1, 'b ù': 1, 'e\\nl': 1, 'lao': 1, 'obi': 1, 's z': 1, 'u\\nc': 1, 'huu': 1, 'ulh': 1, 'c\\nk': 1, 'z m': 1, 'boo': 1, 'ooy': 1, 'oyb': 1, 'ybe': 1, 'ezo': 1, 'u\\nl': 1, 'la\\n': 1, 'a\\n ': 1, '\\n p': 1, ' mo': 1, 'olc': 1, 'lca': 1, 'ku ': 1, 'iz\\n': 1, 'z\\nc': 1, 'ayo': 1, 'yoe': 1, 'chb': 1, ' tr': 1, 'tra': 1, 'ran': 1, 'ans': 1, 'nsf': 1, 'sfi': 1, 'fig': 1, 'igu': 1, 'gur': 1, 'ura': 1, 'cax': 1, 'axt': 1, ' ag': 1, 'ago': 1, 'gos': 1, 'ost': 1, 'toe': 1, 'unl': 1, 'nle': 1, 'ù\\nt': 1, '\\nto': 1, 'h s': 1, 'r  ': 1, 'ù\\nn': 1, '\\nnu': 1, 'um\\n': 1, 'm\\nu': 1, 'ayl': 1, 'yle': 1, 'e\\ny': 1, 'su ': 1, 'o u': 1, 'icc': 1, 'h\\nx': 1, 'hcu': 1, 'c\\nx': 1, 'ihe': 1, 't x': 1, 'm h': 1, 'zit': 1, 'itz': 1, 'atl': 1, 'tla': 1, 'tub': 1, 'n\\ni': 1, 'au ': 1, 'u a': 1, 'n  ': 1, '  \\n': 1, 'bat': 1, '\\nut': 1, 'tem': 1, 'mec': 1, 'iku': 1, 'nli': 1, 'u o': 1, ' oy': 1, 'oyo': 1, 'yom': 1, 'omo': 1, 'ang': 1, 'nge': 1, 'gel': 1, 'loo': 1, 'l\\ns': 1, '\\nsa': 1, 'tup': 1, 'n â': 1, 'â c': 1, 'h\\ng': 1, '\\ngr': 1, 'gra': 1, 'y\\nn': 1, 'm â': 1, 'â u': 1, ' io': 1, 'iok': 1, 'iko': 1, 'mel': 1, ' id': 1, 'id ': 1, 'd e': 1, 's  ': 1, '  s': 1, 'sei': 1, 'eis': 1, 'isc': 1, ' y ': 1, ' do': 1, 'dos': 1, 'osc': 1, 'por': 1, 'orq': 1, 'rqu': 1, 'que': 1, 'c s': 1, ' so': 1, 'son': 1, 'n\\no': 1, '\\noc': 1, 'ho ': 1, 'nth': 1, 'the': 1, 'h j': 1, 'lox': 1, 'oxc': 1, 'xco': 1, 'chê': 1, 'hê ': 1, 'ê c': 1, 'hoh': 1, 'b ú': 1, 'zel': 1, 'à\\np': 1, 'uyo': 1, 'á h': 1, 'ixo': 1, 'xob': 1, '\\nho': 1, 'oka': 1, 'pap': 1, 'm p': 1, '\\ncr': 1, 'h à': 1, 'poe': 1, 'oen': 1, 'ú\\nn': 1, 'let': 1, 'etu': 1, 'm o': 1, 'iol': 1, 'oln': 1, 'xit': 1, 'i \\n': 1, 't s': 1, 'yxa': 1, 'y y': 1, 'obx': 1, 'bxa': 1, ' n ': 1, 'lki': 1, 'iot': 1, 'me ': 1, 'y\\nh': 1, 'xax': 1, 'x â': 1, 'â n': 1, 'x\\ná': 1, 'im ': 1, 'm \\n': 1, ' \\nt': 1, 'nai': 1, 'aia': 1, 'x p': 1, 'ael': 1, 'zol': 1, 'elb': 1, 'heh': 1, 'e\\nn': 1, '\\nn ': 1, 'uky': 1, 'h\\ná': 1, 'tci': 1, 'ú x': 1, 'xot': 1, 'ot ': 1, 'mut': 1, 'lol': 1, 'ihb': 1, 'hbe': 1, 'ezi': 1, 'mta': 1, 'e\\ni': 1, 'x\\na': 1, 'eet': 1, 'ii ': 1, ' uk': 1, 'uku': 1, 'taz': 1, 'azb': 1, 'zud': 1, 'ie\\n': 1, 'e\\no': 1, 'teh': 1, 'ehi': 1, 'e n': 1, 'mit': 1, 'kci': 1, 'i â': 1, 'kim': 1, 'ayi': 1, 'à à': 1, 'à\\ny': 1, 'uul': 1, ' em': 1, 'emc': 1, 'uui': 1, 'lim': 1, 'mbo': 1, 'bo ': 1, 'o ù': 1, 'e à': 1, 'oke': 1, 'kez': 1, 'z ù': 1, 'mob': 1, 'ilé': 1, 'lé ': 1, 'é y': 1, 'ime': 1, 'x\\nn': 1, 'cut': 1, ' t\\n': 1, 't\\nt': 1, 'yin': 1, 'inh': 1, 'ucn': 1, 'cna': 1, 'n\\nn': 1, 'abz': 1, 'bza': 1, 'boc': 1, 'bt ': 1, 'teb': 1, 'eb ': 1, 'icb': 1, 'cbê': 1, 'bê ': 1, 'ê e': 1, 'acc': 1, 'ccu': 1, 't a': 1, 'beo': 1, 't b': 1, 'a o': 1, 'ppc': 1, 'pch': 1, 'heo': 1, 'ub ': 1, 's l': 1, 'lau': 1, 'any': 1, 'nya': 1, 'ilt': 1, 'axk': 1, 'iba': 1, 'hko': 1, 'koh': 1, 'oha': 1, 'cak': 1, 'c û': 1, 'û m': 1, 'ahn': 1, 'hnu': 1, 'a\\nt': 1, 'maz': 1, 'azc': 1, 'zca': 1, 'ioe': 1, 'z e': 1, 'est': 1, 'sta': 1, 'one': 1, 'nes': 1, 'ese': 1, 'se\\n': 1, 'l  ': 1, 'pur': 1, 'urg': 1, 'rga': 1, 'gat': 1, 'tor': 1, 'ori': 1, 'rio': 1, 'mam': 1, 'uzn': 1, 'zna': 1, 'cam': 1, 'amp': 1, 'mpe': 1, 'ect': 1, 'ctz': 1, 'zba': 1, ' \\np': 1, 'ú d': 1, 'chl': 1, 'nib': 1, 'b p': 1, 'c e': 1, 'ma\\n': 1, 'a\\nx': 1, '\\nxu': 1, 'c\\nn': 1, 'ona': 1, 'ton': 1, 'ont': 1, 'ulo': 1, 'cet': 1, 'et\\n': 1, 't\\ny': 1, 'aco': 1, 'ann': 1, 'nno': 1, 'kzo': 1, 'ú\\nc': 1, 'a\\nh': 1, 'l g': 1, ' ge': 1, 'get': 1, 'zim': 1, 'tca': 1, 'i\\nl': 1, 'elu': 1, 'cub': 1, 'uud': 1, 'm x': 1, ' x ': 1, 'û\\ny': 1, 'bie': 1, 'cle': 1, 'a e': 1, 'cox': 1, 'oxo': 1, 'u\\no': 1, 'à\\nn': 1, 'ken': 1, 'kz ': 1, 'l\\ne': 1, '\\neb': 1, 'ebi': 1, 'l s': 1, 'sed': 1, 'edr': 1, 'dro': 1, 'ron': 1, 'yoc': 1, 'uuy': 1, 'uyi': 1, 'oxt': 1, 'naz': 1, 'abc': 1, 'û\\np': 1, 'puu': 1, 'nun': 1, 's b': 1, 'ú l': 1, 'bzi': 1, 'h\\nl': 1, 'e p': 1, 'á l': 1, 'bze': 1, 'm e': 1, 'y\\no': 1, 'hab': 1, 'i o': 1, 'com': 1, 'tit': 1, 'nba': 1, 'y\\nt': 1, 'lea': 1, 'ea ': 1, 'ciu': 1, 'û c': 1, '\\nli': 1, 'm m': 1, 'zia': 1, 'iah': 1, 'ok ': 1, 'hoi': 1, 'auo': 1, 'h\\na': 1, 'htz': 1, 'hli': 1, ' le': 1, 'lep': 1, 'zau': 1, 'upi': 1, 'pin': 1, 'ono': 1, 'ohb': 1, 'pan': 1, 'aut': 1, 'hpp': 1, 'tay': 1, 'aye': 1, 'yen': 1, 'btz': 1, 'cup': 1, 'upl': 1, 'pla': 1, 'l\\nû': 1, '\\nû ': 1, 'û p': 1, 'ixc': 1, 'xci': 1, 'x\\nù': 1, '\\nùc': 1, 'ùch': 1, 'ooi': 1, 'ú u': 1, 'xoy': 1, 'oyp': 1, 'ypa': 1, 'u\\nm': 1, 'yae': 1, 'xe\\n': 1, 'ekl': 1, 'y z': 1, 'zuy': 1, 'ixi': 1, 'obn': 1, 'bno': 1, 'ù u': 1, 'i\\nz': 1, 'ziz': 1, 'ne\\n': 1, 'uix': 1, 'xme': 1, 'nce': 1, 'ta\\n': 1, 'uec': 1, 'eca': 1, 'ihz': 1, 'hzc': 1, 'i\\ne': 1, '\\nec': 1, 'acb': 1, 'kex': 1, 'exc': 1, 'xce': 1, 'pe ': 1, 'ahm': 1, 'hma': 1, 'cae': 1, 'u\\nx': 1, 'ex\\n': 1, 'x\\ny': 1, 'ceh': 1, 'eh ': 1, 'li\\n': 1, 'eka': 1, 'm i': 1, 'ukn': 1, 'kne': 1, 'n \\n': 1, ' \\nb': 1, '\\nbl': 1, 'eti': 1, 'hum': 1, 'ump': 1, 'mpp': 1, 'n\\na': 1, 'oci': 1, 'unx': 1, 'nx ': 1, 'us\\n': 1, 'hem': 1, 'emb': 1, 'mbe': 1, 'c\\ny': 1, 'y a': 1, '\\noh': 1, 'ik\\n': 1, 'k\\nc': 1, 'tco': 1, 'b\\nù': 1, 'l\\nù': 1, 'h\\nù': 1, 'mco': 1, ' \\n ': 1, 'm\\nl': 1, 'k á': 1, 'hle': 1, 'ct ': 1, 'ibl': 1, 'aln': 1, 'n\\nm': 1, 'tii': 1, 'à x': 1, 'n\\nb': 1, 'eec': 1, 'imc': 1, 'mce': 1, '\\nyl': 1, 'yla': 1, 'bto': 1, 'o b': 1, 'l\\nk': 1, 'uik': 1, 'bec': 1, 'enh': 1, '\\n b': 1, 'tzt': 1, 'zta': 1, 'xa ': 1, ' il': 1, 'baa': 1, 'nao': 1, 'ukz': 1, 'c\\nù': 1, 'obo': 1, 'i\\ni': 1, '\\nil': 1, 'iki': 1, 'á x': 1, ' h ': 1, 'lci': 1, '\\n o': 1, 'cez': 1, 'n\\nz': 1, 'lhe': 1, 'he\\n': 1, 'e\\n ': 1, 'yuc': 1, 'x z': 1, 'uxo': 1, 's u': 1, 'c\\nc': 1, 's à': 1, 'uke': 1, 'b\\nh': 1, 's a': 1, 'l\\nl': 1, 'nla': 1, '\\n l': 1, 'ake': 1, 'h\\nb': 1, 'c\\nb': 1, '\\nuy': 1, 'ye ': 1, ' uy': 1, ' ul': 1, 'b\\nl': 1, ' ob': 1, 'oba': 1, ' xm': 1, 'zek': 1, 'ek ': 1, 'k m': 1, ' ak': 1, 's i': 1, 'm\\nc': 1, 'aue': 1, 'cui': 1, 'cau': 1, 'uat': 1, 'atp': 1, 'tpa': 1, 'oho': 1, ' ev': 1, 'eva': 1, 'vae': 1, 'tik': 1, 'ikt': 1, 'cok': 1, 'koo': 1, 'oom': 1, 'cto': 1, 'o c': 1, 'h\\ni': 1, 'tea': 1, 'eab': 1, 'ù z': 1, 'inu': 1, 'a â': 1, 'ba\\n': 1, 'cum': 1, 'cib': 1, 'imz': 1, 'mza': 1, 'akk': 1, 'kke': 1, 'uoc': 1, 'akp': 1, 'kpa': 1, 'uz\\n': 1, 'z\\nu': 1, 'ak\\n': 1, 'k\\nu': 1, 'zbi': 1, 'bi\\n': 1, 'ulk': 1, 'lke': 1, 'haa': 1, 'eco': 1, 'ltz': 1, 'pas': 1, 'asc': 1, 'scu': 1, 'cua': 1, 'anm': 1, 'nma': 1, 'bot': 1, 'die': 1, 'iez': 1, 'ezm': 1, 'zmo': 1, 'moo': 1, ' pr': 1, 'pri': 1, 'iao': 1, 'e \\n': 1, ' \\nh': 1, 'ù s': 1, 'onf': 1, 'nfi': 1, 'fir': 1, 'irm': 1, 'rma': 1, 'xle': 1, 'lul': 1, 'ú s': 1, 'r h': 1, 'hak': 1, 'to\\n': 1, 'o\\nu': 1, ' ex': 1, 'ext': 1, 'xtr': 1, 'tre': 1, 'rem': 1, 'ema': 1, 'mau': 1, 'aun': 1, 'unc': 1, 'tak': 1, 'aky': 1, ' or': 1, 'ord': 1, 'rde': 1, 'den': 1, 'n s': 1, 'cer': 1, 'erd': 1, 'rdo': 1, 'dot': 1, 'atr': 1, 'tri': 1, 'imo': 1, 'mon': 1, 'oni': 1, 'nio': 1, 'o d': 1, 'e\\n\\n': 1})\n"
     ]
    }
   ],
   "source": [
    "f"
   ]
  }
 ],
 "metadata": {
  "kernelspec": {
   "display_name": "Python 3",
   "language": "python",
   "name": "python3"
  },
  "language_info": {
   "codemirror_mode": {
    "name": "ipython",
    "version": 3
   },
   "file_extension": ".py",
   "mimetype": "text/x-python",
   "name": "python",
   "nbconvert_exporter": "python",
   "pygments_lexer": "ipython3",
   "version": "3.10.12"
  }
 },
 "nbformat": 4,
 "nbformat_minor": 2
}
